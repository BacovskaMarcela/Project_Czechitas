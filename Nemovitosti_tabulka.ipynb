{
 "cells": [
  {
   "cell_type": "code",
   "execution_count": 63,
   "metadata": {},
   "outputs": [],
   "source": [
    "import pandas as pd"
   ]
  },
  {
   "cell_type": "markdown",
   "metadata": {},
   "source": [
    "1. načtení souboru\n",
    "2. náhled hlavičky"
   ]
  },
  {
   "cell_type": "code",
   "execution_count": 64,
   "metadata": {},
   "outputs": [
    {
     "data": {
      "text/html": [
       "<div>\n",
       "<style scoped>\n",
       "    .dataframe tbody tr th:only-of-type {\n",
       "        vertical-align: middle;\n",
       "    }\n",
       "\n",
       "    .dataframe tbody tr th {\n",
       "        vertical-align: top;\n",
       "    }\n",
       "\n",
       "    .dataframe thead th {\n",
       "        text-align: right;\n",
       "    }\n",
       "</style>\n",
       "<table border=\"1\" class=\"dataframe\">\n",
       "  <thead>\n",
       "    <tr style=\"text-align: right;\">\n",
       "      <th></th>\n",
       "      <th>Created At</th>\n",
       "      <th>Updated At</th>\n",
       "      <th>Scraped At</th>\n",
       "      <th>UID</th>\n",
       "      <th>ID</th>\n",
       "      <th>Source</th>\n",
       "      <th>Updated</th>\n",
       "      <th>Name</th>\n",
       "      <th>URL</th>\n",
       "      <th>Item Type</th>\n",
       "      <th>...</th>\n",
       "      <th>Ask Price Per Useful Area</th>\n",
       "      <th>Ask Price Per Living Area</th>\n",
       "      <th>Ask Price Fair Split</th>\n",
       "      <th>Days Since Published</th>\n",
       "      <th>Days On Display</th>\n",
       "      <th>Count Distinct Ask Price</th>\n",
       "      <th>Min Ask Price</th>\n",
       "      <th>Max Ask Price</th>\n",
       "      <th>First Ask Price</th>\n",
       "      <th>Delta Ask Price</th>\n",
       "    </tr>\n",
       "  </thead>\n",
       "  <tbody>\n",
       "    <tr>\n",
       "      <th>0</th>\n",
       "      <td>2023-09-07T03:09:16.686831</td>\n",
       "      <td>2023-09-07T03:09:16.686832</td>\n",
       "      <td>2023-09-07T03:00:01</td>\n",
       "      <td>bezrealitky-206888</td>\n",
       "      <td>206888</td>\n",
       "      <td>bezrealitky</td>\n",
       "      <td>False</td>\n",
       "      <td>Pronájem bytu 1+1 44 m², Antala Staška, Brno, ...</td>\n",
       "      <td>https://www.bezrealitky.cz/nemovitosti-byty-do...</td>\n",
       "      <td>Flat</td>\n",
       "      <td>...</td>\n",
       "      <td>329.545455</td>\n",
       "      <td>NaN</td>\n",
       "      <td>NaN</td>\n",
       "      <td>31</td>\n",
       "      <td>4</td>\n",
       "      <td>1</td>\n",
       "      <td>14500.0</td>\n",
       "      <td>14500.0</td>\n",
       "      <td>14500.0</td>\n",
       "      <td>0.0</td>\n",
       "    </tr>\n",
       "  </tbody>\n",
       "</table>\n",
       "<p>1 rows × 48 columns</p>\n",
       "</div>"
      ],
      "text/plain": [
       "                   Created At                  Updated At  \\\n",
       "0  2023-09-07T03:09:16.686831  2023-09-07T03:09:16.686832   \n",
       "\n",
       "            Scraped At                 UID      ID       Source  Updated  \\\n",
       "0  2023-09-07T03:00:01  bezrealitky-206888  206888  bezrealitky    False   \n",
       "\n",
       "                                                Name  \\\n",
       "0  Pronájem bytu 1+1 44 m², Antala Staška, Brno, ...   \n",
       "\n",
       "                                                 URL Item Type  ...  \\\n",
       "0  https://www.bezrealitky.cz/nemovitosti-byty-do...      Flat  ...   \n",
       "\n",
       "  Ask Price Per Useful Area Ask Price Per Living Area Ask Price Fair Split  \\\n",
       "0                329.545455                       NaN                  NaN   \n",
       "\n",
       "  Days Since Published  Days On Display Count Distinct Ask Price  \\\n",
       "0                   31                4                        1   \n",
       "\n",
       "  Min Ask Price Max Ask Price First Ask Price  Delta Ask Price  \n",
       "0       14500.0       14500.0         14500.0              0.0  \n",
       "\n",
       "[1 rows x 48 columns]"
      ]
     },
     "execution_count": 64,
     "metadata": {},
     "output_type": "execute_result"
    }
   ],
   "source": [
    "properties = pd.read_csv('Nemovitosti.csv', encoding='UTF-8')\n",
    "properties.head(1)"
   ]
  },
  {
   "cell_type": "markdown",
   "metadata": {},
   "source": [
    "Kontrola hodnot ve sloupci State:\n",
    "1. zobrazení unikátních hodnot\n",
    "2. nahrazení hodnot (NEW, VERY GOOD, GOOD, BAD, UNDEFINED)\n"
   ]
  },
  {
   "cell_type": "code",
   "execution_count": 65,
   "metadata": {},
   "outputs": [
    {
     "data": {
      "text/plain": [
       "array([ 2., nan,  1.,  3.,  4.])"
      ]
     },
     "execution_count": 65,
     "metadata": {},
     "output_type": "execute_result"
    }
   ],
   "source": [
    "properties['Real State'].unique()"
   ]
  },
  {
   "cell_type": "code",
   "execution_count": 66,
   "metadata": {},
   "outputs": [],
   "source": [
    "properties['Real State'] = properties['Real State'].replace({1.0: 'NEW', 2.0: 'VERY GOOD', 3.0: 'GOOD', 4.0: 'BAD', float('nan'): 'UNDEFINED'})"
   ]
  },
  {
   "cell_type": "markdown",
   "metadata": {},
   "source": [
    "Ze sloupce Address potřebujeme získat název městské části:\n",
    "1. "
   ]
  },
  {
   "cell_type": "code",
   "execution_count": 78,
   "metadata": {},
   "outputs": [
    {
     "data": {
      "text/plain": [
       "0       Antala Staška, Brno - Černá Pole\n",
       "1             Karlova, Brno - Maloměřice\n",
       "2              Veselá, Brno - Město Brno\n",
       "3              Azurová, Brno - Řečkovice\n",
       "4       Jungmannova, Brno - Královo Pole\n",
       "                      ...               \n",
       "2211           Wollmanova, Brno - Bystrc\n",
       "2212               Vlněna, Brno - Trnitá\n",
       "2213         Obřanská, Brno - Maloměřice\n",
       "2214          Zaječí hora, Brno - Sadová\n",
       "2215           Těšany, okres Brno-venkov\n",
       "Name: Address, Length: 2216, dtype: object"
      ]
     },
     "execution_count": 78,
     "metadata": {},
     "output_type": "execute_result"
    }
   ],
   "source": [
    "properties['Address'] = properties['Address'].str.replace('Jihomoravský kraj', '')\n",
    "properties['Address'] = properties['Address'].str.rstrip(', ',)\n",
    "properties['Address']\n"
   ]
  },
  {
   "cell_type": "code",
   "execution_count": 84,
   "metadata": {},
   "outputs": [],
   "source": [
    "properties[['Street', 'City part']] = properties['Address'].str.split(',', expand=True)\n",
    "properties['City part'] = properties['City part'].str.strip()\n"
   ]
  },
  {
   "cell_type": "code",
   "execution_count": 85,
   "metadata": {},
   "outputs": [
    {
     "data": {
      "text/plain": [
       "array(['Brno - Černá Pole', 'Brno - Maloměřice', 'Brno - Město Brno',\n",
       "       'Brno - Řečkovice', 'Brno - Královo Pole', 'Brno - Štýřice',\n",
       "       'Brno - Staré Brno', 'Brno - Bystrc', 'Brno - Zábrdovice',\n",
       "       'Brno - Veveří', 'Brno - Stránice', 'Brno - Židenice',\n",
       "       'Brno - Horní Heršpice', 'Brno - Starý Lískovec', 'Brno - Chrlice',\n",
       "       'Brno - Líšeň', None, 'Brno - Husovice', 'Brno - Tuřany',\n",
       "       'Brno - Komín', 'Brno - Medlánky', 'Brno - Žabovřesky',\n",
       "       'Brno - Soběšice', 'Brno - Lesná', 'Brno - Dolní Heršpice',\n",
       "       'Brno - Kohoutovice', 'Brno - Sadová', 'Město Brno',\n",
       "       'Brno - Ořešín', 'Brno - Brno-Zábrdovice', 'Brno - Ivanovice',\n",
       "       'Staré Brno', 'Brno - Bohunice', 'Brno - Ponava', 'Brno - Pisárky',\n",
       "       'Brno - Černovice', 'Brno - Trnitá', 'Brno - Slatina',\n",
       "       'Brno - Holásky', 'Brno - Žebětín', 'Brno - Obřany',\n",
       "       'Brno - Kníničky', 'Brno - Brno-Štýřice', 'Brno - Nový Lískovec',\n",
       "       'Brno - Komárov', 'Brno - Brno-Staré Brno', 'Brno - Jundrov',\n",
       "       'okres Brno-město', 'Brno - Brno-město', 'okres Brno-venkov',\n",
       "       'Brno', 'Brno - Přízřenice', 'Brno - Brno-sever',\n",
       "       'Brno - Brněnské Ivanovice', 'Brno - Jehnice', 'Brno - Brno-střed',\n",
       "       'Brno - Brno-Řečkovice a Mokrá Hora', 'Brno - Brno-Židenice',\n",
       "       'Brno - Brno-jih', 'Brno - Bosonohy', 'Brno - Brno-Královo Pole',\n",
       "       'Brno - Brno-Starý Lískovec'], dtype=object)"
      ]
     },
     "execution_count": 85,
     "metadata": {},
     "output_type": "execute_result"
    }
   ],
   "source": [
    "\n",
    "properties['City part'].unique()"
   ]
  },
  {
   "cell_type": "markdown",
   "metadata": {},
   "source": [
    "Brno - Pisárky jsou rozdělené do dvou různých částí - střed a Kohoutovice, je třeba rozdělit ručně"
   ]
  },
  {
   "cell_type": "code",
   "execution_count": 108,
   "metadata": {},
   "outputs": [
    {
     "data": {
      "text/plain": [
       "array(['Brno - Černá Pole', 'Brno - Maloměřice', 'Brno - střed',\n",
       "       'Brno - Řečkovice', 'Brno - Královo Pole', 'Brno - Bystrc',\n",
       "       'Brno - Zábrdovice', 'Brno - Židenice', 'Brno - Jih',\n",
       "       'Brno - Starý Lískovec', 'Brno - Chrlice', 'Brno - Líšeň', None,\n",
       "       'Brno - Husovice', 'Brno - Tuřany', 'Brno - Komín',\n",
       "       'Brno - Medlánky', 'Brno - Žabovřesky', 'Brno - sever',\n",
       "       'Brno - Lesná', 'Brno - jih', 'Brno - Kohoutovice',\n",
       "       'Brno - Ořešín', 'Brno - Ivanovice', 'Brno - Bohunice',\n",
       "       'Brno - Pisárky', 'Brno - Černovice', 'Brno - Slatina',\n",
       "       'Brno - Žebětín', 'Brno - Maloměřice a Obřany', 'Brno - Kníničky',\n",
       "       'Brno - Nový Lískovec', 'Brno - Komárov', 'Brno - Jundrov',\n",
       "       'okres Brno-město', 'Brno - venkov', 'Brno', 'Brno - Jehnice',\n",
       "       'Brno - Řečkovice a Mokrá Hora', 'Brno - Bosonohy'], dtype=object)"
      ]
     },
     "execution_count": 108,
     "metadata": {},
     "output_type": "execute_result"
    }
   ],
   "source": [
    "properties['City part'] = properties['City part'].replace({\n",
    "    'Brno - Staré Brno': 'Brno - střed', \n",
    "    'Brno - Veveří': 'Brno - střed', \n",
    "    'Brno - Štýřice': 'Brno - střed', \n",
    "    'Brno - Stránice': 'Brno - střed',  \n",
    "    'Brno - Horní Heršpice': 'Brno - Jih', \n",
    "    'Brno - Soběšice': 'Brno - sever', \n",
    "    'Brno - Dolní Heršpice': 'Brno - jih', \n",
    "    'Brno - Sadová': 'Brno - Královo Pole', \n",
    "    'Brno - Brno-Zábrdovice': 'Brno - Zábrdovice', \n",
    "    'Staré Brno': 'Brno - střed', \n",
    "    'Brno - Ponava': 'Brno - Královo Pole', \n",
    "    'Brno - Trnitá': 'Brno - střed', \n",
    "    'Brno - Holásky': 'Brno - Tuřany', \n",
    "    'Brno - Obřany': 'Brno - Maloměřice a Obřany', \n",
    "    'Brno - Brno-Štýřice': 'Brno - Štýřice', \n",
    "    'Brno - Přízřenice': 'Brno - jih',\n",
    "    'Brno - Brno-sever': 'Brno - sever',\n",
    "    'Brno - Brněnské Ivanovice': 'Brno - Tuřany',\n",
    "    'Brno - Brno-střed': 'Brno - střed',\n",
    "    'Brno - Brno-Řečkovice a Mokrá Hora': 'Brno - Řečkovice a Mokrá Hora',\n",
    "    'Brno - Brno-Židenice': 'Brno - Židenice',\n",
    "    'Brno - Brno-jih': 'Brno - jih',\n",
    "    'Brno - Brno-Královo Pole': 'Brno - Královo Pole',\n",
    "    'Brno - Brno-Starý Lískovec': 'Brno - Starý Lískovec',\n",
    "    'Město Brno': 'Brno - střed',\n",
    "    'Brno - Město Brno': 'Brno - střed',\n",
    "    'Brno - Brno-Staré Brno': 'Brno - střed',\n",
    "    'Brno - Brno-město': 'Brno - střed',\n",
    "    'okres Brno-venkov': 'Brno - venkov'})\n",
    "\n",
    "properties['City part'].unique()"
   ]
  },
  {
   "cell_type": "code",
   "execution_count": 130,
   "metadata": {},
   "outputs": [],
   "source": [
    "properties.loc[properties['Street'] == 'Kamechy', 'City part'] = 'Brno - střed'\n",
    "properties.loc[properties['Street'] == 'Purkyňova', 'City part'] = 'Brno - Medlánky'\n",
    "properties.loc[properties['Street'] == 'Veveří', 'City part'] = 'Brno - střed'\n",
    "properties.loc[properties['Street'] == 'Lipová', 'City part'] = 'Brno - střed'\n",
    "properties.loc[properties['Street'] == 'Vídeňská', 'City part'] = 'Brno - jih'\n",
    "properties.loc[properties['Street'] == 'Palackého třída', 'City part'] = 'Brno - Královo Pole'\n",
    "properties.loc[properties['Street'] == 'Vranovská', 'City part'] = 'Brno - sever'\n",
    "properties.loc[properties['Street'] == 'Černovická', 'City part'] = 'Brno - Černovice'\n",
    "properties.loc[properties['Street'] == 'Botanická', 'City part'] = 'Brno - střed'\n",
    "properties.loc[properties['Street'] == 'Černovičky', 'City part'] = 'Brno - Slatina'\n"
   ]
  },
  {
   "cell_type": "code",
   "execution_count": 131,
   "metadata": {},
   "outputs": [
    {
     "data": {
      "text/html": [
       "<div>\n",
       "<style scoped>\n",
       "    .dataframe tbody tr th:only-of-type {\n",
       "        vertical-align: middle;\n",
       "    }\n",
       "\n",
       "    .dataframe tbody tr th {\n",
       "        vertical-align: top;\n",
       "    }\n",
       "\n",
       "    .dataframe thead th {\n",
       "        text-align: right;\n",
       "    }\n",
       "</style>\n",
       "<table border=\"1\" class=\"dataframe\">\n",
       "  <thead>\n",
       "    <tr style=\"text-align: right;\">\n",
       "      <th></th>\n",
       "      <th>City part</th>\n",
       "      <th>Street</th>\n",
       "      <th>Address</th>\n",
       "    </tr>\n",
       "  </thead>\n",
       "  <tbody>\n",
       "    <tr>\n",
       "      <th>530</th>\n",
       "      <td>Brno</td>\n",
       "      <td>Kigginsova</td>\n",
       "      <td>Kigginsova, Brno</td>\n",
       "    </tr>\n",
       "    <tr>\n",
       "      <th>554</th>\n",
       "      <td>Brno</td>\n",
       "      <td>Miry Figarové</td>\n",
       "      <td>Miry Figarové, Brno</td>\n",
       "    </tr>\n",
       "    <tr>\n",
       "      <th>579</th>\n",
       "      <td>Brno</td>\n",
       "      <td>Veslařská</td>\n",
       "      <td>Veslařská, Brno</td>\n",
       "    </tr>\n",
       "    <tr>\n",
       "      <th>880</th>\n",
       "      <td>Brno</td>\n",
       "      <td>Žižkova</td>\n",
       "      <td>Žižkova, Brno</td>\n",
       "    </tr>\n",
       "    <tr>\n",
       "      <th>1042</th>\n",
       "      <td>Brno</td>\n",
       "      <td>Tuřanka</td>\n",
       "      <td>Tuřanka, Brno</td>\n",
       "    </tr>\n",
       "    <tr>\n",
       "      <th>1054</th>\n",
       "      <td>Brno</td>\n",
       "      <td>Rumiště</td>\n",
       "      <td>Rumiště, Brno</td>\n",
       "    </tr>\n",
       "    <tr>\n",
       "      <th>1356</th>\n",
       "      <td>Brno</td>\n",
       "      <td>Ondřeje Sekory</td>\n",
       "      <td>Ondřeje Sekory, Brno</td>\n",
       "    </tr>\n",
       "    <tr>\n",
       "      <th>1454</th>\n",
       "      <td>Brno</td>\n",
       "      <td>Hrnčířská</td>\n",
       "      <td>Hrnčířská, Brno</td>\n",
       "    </tr>\n",
       "    <tr>\n",
       "      <th>1475</th>\n",
       "      <td>Brno</td>\n",
       "      <td>Kaštanová</td>\n",
       "      <td>Kaštanová, Brno</td>\n",
       "    </tr>\n",
       "    <tr>\n",
       "      <th>1563</th>\n",
       "      <td>Brno</td>\n",
       "      <td>Šumavská</td>\n",
       "      <td>Šumavská, Brno</td>\n",
       "    </tr>\n",
       "    <tr>\n",
       "      <th>1600</th>\n",
       "      <td>Brno</td>\n",
       "      <td>Veslařská</td>\n",
       "      <td>Veslařská, Brno</td>\n",
       "    </tr>\n",
       "    <tr>\n",
       "      <th>1654</th>\n",
       "      <td>Brno</td>\n",
       "      <td>Mlýnská</td>\n",
       "      <td>Mlýnská, Brno</td>\n",
       "    </tr>\n",
       "    <tr>\n",
       "      <th>1667</th>\n",
       "      <td>Brno</td>\n",
       "      <td>Placzkova</td>\n",
       "      <td>Placzkova, Brno</td>\n",
       "    </tr>\n",
       "    <tr>\n",
       "      <th>1834</th>\n",
       "      <td>Brno</td>\n",
       "      <td>Moskalykova</td>\n",
       "      <td>Moskalykova, Brno</td>\n",
       "    </tr>\n",
       "    <tr>\n",
       "      <th>1911</th>\n",
       "      <td>Brno</td>\n",
       "      <td>Tábor</td>\n",
       "      <td>Tábor, Brno</td>\n",
       "    </tr>\n",
       "    <tr>\n",
       "      <th>2052</th>\n",
       "      <td>Brno</td>\n",
       "      <td>Kalvodova</td>\n",
       "      <td>Kalvodova, Brno</td>\n",
       "    </tr>\n",
       "    <tr>\n",
       "      <th>2121</th>\n",
       "      <td>Brno</td>\n",
       "      <td>Dornych</td>\n",
       "      <td>Dornych, Brno</td>\n",
       "    </tr>\n",
       "    <tr>\n",
       "      <th>2189</th>\n",
       "      <td>Brno</td>\n",
       "      <td>Jedovnická</td>\n",
       "      <td>Jedovnická, Brno</td>\n",
       "    </tr>\n",
       "  </tbody>\n",
       "</table>\n",
       "</div>"
      ],
      "text/plain": [
       "     City part          Street               Address\n",
       "530       Brno      Kigginsova      Kigginsova, Brno\n",
       "554       Brno   Miry Figarové   Miry Figarové, Brno\n",
       "579       Brno       Veslařská       Veslařská, Brno\n",
       "880       Brno         Žižkova         Žižkova, Brno\n",
       "1042      Brno         Tuřanka         Tuřanka, Brno\n",
       "1054      Brno         Rumiště         Rumiště, Brno\n",
       "1356      Brno  Ondřeje Sekory  Ondřeje Sekory, Brno\n",
       "1454      Brno       Hrnčířská       Hrnčířská, Brno\n",
       "1475      Brno       Kaštanová       Kaštanová, Brno\n",
       "1563      Brno        Šumavská        Šumavská, Brno\n",
       "1600      Brno       Veslařská       Veslařská, Brno\n",
       "1654      Brno         Mlýnská         Mlýnská, Brno\n",
       "1667      Brno       Placzkova       Placzkova, Brno\n",
       "1834      Brno     Moskalykova     Moskalykova, Brno\n",
       "1911      Brno           Tábor           Tábor, Brno\n",
       "2052      Brno       Kalvodova       Kalvodova, Brno\n",
       "2121      Brno         Dornych         Dornych, Brno\n",
       "2189      Brno      Jedovnická      Jedovnická, Brno"
      ]
     },
     "execution_count": 131,
     "metadata": {},
     "output_type": "execute_result"
    }
   ],
   "source": [
    "Result = properties.loc[properties['City part'] == 'Brno', ['City part', 'Street', 'Address',]]\n",
    "Result"
   ]
  },
  {
   "cell_type": "markdown",
   "metadata": {},
   "source": [
    "Zápis upraveného souboru."
   ]
  },
  {
   "cell_type": "code",
   "execution_count": null,
   "metadata": {},
   "outputs": [],
   "source": [
    "properties.to_csv('Nemovitosti_v4.tsv', sep='\\t', index=False)"
   ]
  }
 ],
 "metadata": {
  "kernelspec": {
   "display_name": "Python 3",
   "language": "python",
   "name": "python3"
  },
  "language_info": {
   "codemirror_mode": {
    "name": "ipython",
    "version": 3
   },
   "file_extension": ".py",
   "mimetype": "text/x-python",
   "name": "python",
   "nbconvert_exporter": "python",
   "pygments_lexer": "ipython3",
   "version": "3.11.5"
  }
 },
 "nbformat": 4,
 "nbformat_minor": 2
}
