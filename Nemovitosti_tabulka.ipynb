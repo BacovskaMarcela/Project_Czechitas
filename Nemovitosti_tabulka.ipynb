{
 "cells": [
  {
   "cell_type": "code",
   "execution_count": 59,
   "metadata": {},
   "outputs": [],
   "source": [
    "import pandas as pd"
   ]
  },
  {
   "cell_type": "markdown",
   "metadata": {},
   "source": [
    "Výběr sloupců ze souboru Nemovitosti.csv:\n",
    "1. načtení souboru\n",
    "2. náhled hlavičky\n",
    "3. smazání nepotřebných sloupců"
   ]
  },
  {
   "cell_type": "code",
   "execution_count": 60,
   "metadata": {},
   "outputs": [
    {
     "data": {
      "text/html": [
       "<div>\n",
       "<style scoped>\n",
       "    .dataframe tbody tr th:only-of-type {\n",
       "        vertical-align: middle;\n",
       "    }\n",
       "\n",
       "    .dataframe tbody tr th {\n",
       "        vertical-align: top;\n",
       "    }\n",
       "\n",
       "    .dataframe thead th {\n",
       "        text-align: right;\n",
       "    }\n",
       "</style>\n",
       "<table border=\"1\" class=\"dataframe\">\n",
       "  <thead>\n",
       "    <tr style=\"text-align: right;\">\n",
       "      <th></th>\n",
       "      <th>Created At</th>\n",
       "      <th>Updated At</th>\n",
       "      <th>Scraped At</th>\n",
       "      <th>UID</th>\n",
       "      <th>ID</th>\n",
       "      <th>Source</th>\n",
       "      <th>Updated</th>\n",
       "      <th>Name</th>\n",
       "      <th>URL</th>\n",
       "      <th>Item Type</th>\n",
       "      <th>...</th>\n",
       "      <th>Ask Price Per Useful Area</th>\n",
       "      <th>Ask Price Per Living Area</th>\n",
       "      <th>Ask Price Fair Split</th>\n",
       "      <th>Days Since Published</th>\n",
       "      <th>Days On Display</th>\n",
       "      <th>Count Distinct Ask Price</th>\n",
       "      <th>Min Ask Price</th>\n",
       "      <th>Max Ask Price</th>\n",
       "      <th>First Ask Price</th>\n",
       "      <th>Delta Ask Price</th>\n",
       "    </tr>\n",
       "  </thead>\n",
       "  <tbody>\n",
       "    <tr>\n",
       "      <th>0</th>\n",
       "      <td>2023-09-07T03:09:16.686831</td>\n",
       "      <td>2023-09-07T03:09:16.686832</td>\n",
       "      <td>2023-09-07T03:00:01</td>\n",
       "      <td>bezrealitky-206888</td>\n",
       "      <td>206888</td>\n",
       "      <td>bezrealitky</td>\n",
       "      <td>False</td>\n",
       "      <td>Pronájem bytu 1+1 44 m², Antala Staška, Brno, ...</td>\n",
       "      <td>https://www.bezrealitky.cz/nemovitosti-byty-do...</td>\n",
       "      <td>Flat</td>\n",
       "      <td>...</td>\n",
       "      <td>329.545455</td>\n",
       "      <td>NaN</td>\n",
       "      <td>NaN</td>\n",
       "      <td>31</td>\n",
       "      <td>4</td>\n",
       "      <td>1</td>\n",
       "      <td>14500.0</td>\n",
       "      <td>14500.0</td>\n",
       "      <td>14500.0</td>\n",
       "      <td>0.0</td>\n",
       "    </tr>\n",
       "  </tbody>\n",
       "</table>\n",
       "<p>1 rows × 48 columns</p>\n",
       "</div>"
      ],
      "text/plain": [
       "                   Created At                  Updated At  \\\n",
       "0  2023-09-07T03:09:16.686831  2023-09-07T03:09:16.686832   \n",
       "\n",
       "            Scraped At                 UID      ID       Source  Updated  \\\n",
       "0  2023-09-07T03:00:01  bezrealitky-206888  206888  bezrealitky    False   \n",
       "\n",
       "                                                Name  \\\n",
       "0  Pronájem bytu 1+1 44 m², Antala Staška, Brno, ...   \n",
       "\n",
       "                                                 URL Item Type  ...  \\\n",
       "0  https://www.bezrealitky.cz/nemovitosti-byty-do...      Flat  ...   \n",
       "\n",
       "  Ask Price Per Useful Area Ask Price Per Living Area Ask Price Fair Split  \\\n",
       "0                329.545455                       NaN                  NaN   \n",
       "\n",
       "  Days Since Published  Days On Display Count Distinct Ask Price  \\\n",
       "0                   31                4                        1   \n",
       "\n",
       "  Min Ask Price Max Ask Price First Ask Price  Delta Ask Price  \n",
       "0       14500.0       14500.0         14500.0              0.0  \n",
       "\n",
       "[1 rows x 48 columns]"
      ]
     },
     "execution_count": 60,
     "metadata": {},
     "output_type": "execute_result"
    }
   ],
   "source": [
    "properties = pd.read_csv('Nemovitosti.csv', encoding='UTF-8')\n",
    "properties.head(1)"
   ]
  },
  {
   "cell_type": "markdown",
   "metadata": {},
   "source": [
    "Kontrola hodnot ve sloupci State:\n",
    "1. zobrazení unikátních hodnot\n",
    "2. nahrazení hodnot (NEW, VERY GOOD, GOOD, BAD, UNDEFINED)\n"
   ]
  },
  {
   "cell_type": "code",
   "execution_count": 61,
   "metadata": {},
   "outputs": [
    {
     "data": {
      "text/plain": [
       "array([ 2., nan,  1.,  3.,  4.])"
      ]
     },
     "execution_count": 61,
     "metadata": {},
     "output_type": "execute_result"
    }
   ],
   "source": [
    "properties['Real State'].unique()"
   ]
  },
  {
   "cell_type": "code",
   "execution_count": 62,
   "metadata": {},
   "outputs": [
    {
     "data": {
      "text/plain": [
       "0       VERY GOOD\n",
       "1       UNDEFINED\n",
       "2       UNDEFINED\n",
       "3       VERY GOOD\n",
       "4       UNDEFINED\n",
       "          ...    \n",
       "2211          NEW\n",
       "2212    VERY GOOD\n",
       "2213         GOOD\n",
       "2214          NEW\n",
       "2215    VERY GOOD\n",
       "Name: Real State, Length: 2216, dtype: object"
      ]
     },
     "execution_count": 62,
     "metadata": {},
     "output_type": "execute_result"
    }
   ],
   "source": [
    "properties['Real State'].replace({1.0: 'NEW', 2.0: 'VERY GOOD', 3.0: 'GOOD', 4.0: 'BAD', float('nan'): 'UNDEFINED'})"
   ]
  },
  {
   "cell_type": "code",
   "execution_count": 63,
   "metadata": {},
   "outputs": [],
   "source": [
    "properties['State'] = properties['Real State'].replace({1.0: 'NEW', 2.0: 'VERY GOOD', 3.0: 'GOOD', 4.0: 'BAD', float('nan'): 'UNDEFINED'})"
   ]
  },
  {
   "cell_type": "code",
   "execution_count": 64,
   "metadata": {},
   "outputs": [],
   "source": [
    "properties.to_csv('Nemovitosti - Nemovitosti.csv', index=False)"
   ]
  }
 ],
 "metadata": {
  "kernelspec": {
   "display_name": "Python 3",
   "language": "python",
   "name": "python3"
  },
  "language_info": {
   "codemirror_mode": {
    "name": "ipython",
    "version": 3
   },
   "file_extension": ".py",
   "mimetype": "text/x-python",
   "name": "python",
   "nbconvert_exporter": "python",
   "pygments_lexer": "ipython3",
   "version": "3.11.5"
  }
 },
 "nbformat": 4,
 "nbformat_minor": 2
}
