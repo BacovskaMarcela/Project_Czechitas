{
 "cells": [
  {
   "cell_type": "code",
   "execution_count": 29,
   "metadata": {},
   "outputs": [],
   "source": [
    "import pandas as pd"
   ]
  },
  {
   "cell_type": "code",
   "execution_count": 30,
   "metadata": {},
   "outputs": [
    {
     "data": {
      "text/html": [
       "<div>\n",
       "<style scoped>\n",
       "    .dataframe tbody tr th:only-of-type {\n",
       "        vertical-align: middle;\n",
       "    }\n",
       "\n",
       "    .dataframe tbody tr th {\n",
       "        vertical-align: top;\n",
       "    }\n",
       "\n",
       "    .dataframe thead th {\n",
       "        text-align: right;\n",
       "    }\n",
       "</style>\n",
       "<table border=\"1\" class=\"dataframe\">\n",
       "  <thead>\n",
       "    <tr style=\"text-align: right;\">\n",
       "      <th></th>\n",
       "      <th>id</th>\n",
       "      <th>x</th>\n",
       "      <th>y</th>\n",
       "      <th>mp</th>\n",
       "      <th>date</th>\n",
       "      <th>state</th>\n",
       "      <th>relevance</th>\n",
       "      <th>types</th>\n",
       "    </tr>\n",
       "  </thead>\n",
       "  <tbody>\n",
       "    <tr>\n",
       "      <th>0</th>\n",
       "      <td>20102956</td>\n",
       "      <td>16.624296</td>\n",
       "      <td>49.196965</td>\n",
       "      <td>False</td>\n",
       "      <td>2023-01-01T00:23:00.0000+01:00</td>\n",
       "      <td>1</td>\n",
       "      <td>4</td>\n",
       "      <td>76</td>\n",
       "    </tr>\n",
       "    <tr>\n",
       "      <th>1</th>\n",
       "      <td>20102956</td>\n",
       "      <td>16.624296</td>\n",
       "      <td>49.196965</td>\n",
       "      <td>False</td>\n",
       "      <td>2023-01-01T00:23:00.0000+01:00</td>\n",
       "      <td>1</td>\n",
       "      <td>4</td>\n",
       "      <td>97</td>\n",
       "    </tr>\n",
       "  </tbody>\n",
       "</table>\n",
       "</div>"
      ],
      "text/plain": [
       "         id          x          y     mp                            date  \\\n",
       "0  20102956  16.624296  49.196965  False  2023-01-01T00:23:00.0000+01:00   \n",
       "1  20102956  16.624296  49.196965  False  2023-01-01T00:23:00.0000+01:00   \n",
       "\n",
       "   state  relevance  types  \n",
       "0      1          4     76  \n",
       "1      1          4     97  "
      ]
     },
     "execution_count": 30,
     "metadata": {},
     "output_type": "execute_result"
    }
   ],
   "source": [
    "trestne_ciny = pd.read_csv('trestne_ciny_2023.csv', encoding='UTF-8')\n",
    "trestne_ciny.head(2)"
   ]
  },
  {
   "cell_type": "code",
   "execution_count": 31,
   "metadata": {},
   "outputs": [],
   "source": [
    "trestne_ciny = trestne_ciny.drop(columns=['mp'])"
   ]
  },
  {
   "cell_type": "code",
   "execution_count": 32,
   "metadata": {},
   "outputs": [],
   "source": [
    "trestne_ciny = trestne_ciny[(trestne_ciny['relevance'].isin([1, 3, 4])) & (trestne_ciny['state'] < 5)]"
   ]
  },
  {
   "cell_type": "code",
   "execution_count": 33,
   "metadata": {},
   "outputs": [
    {
     "data": {
      "text/plain": [
       "array([4, 3, 1], dtype=int64)"
      ]
     },
     "execution_count": 33,
     "metadata": {},
     "output_type": "execute_result"
    }
   ],
   "source": [
    "trestne_ciny['relevance'].unique()"
   ]
  },
  {
   "cell_type": "code",
   "execution_count": 34,
   "metadata": {},
   "outputs": [
    {
     "data": {
      "text/plain": [
       "array([1, 2, 4, 3], dtype=int64)"
      ]
     },
     "execution_count": 34,
     "metadata": {},
     "output_type": "execute_result"
    }
   ],
   "source": [
    "trestne_ciny['state'].unique()"
   ]
  },
  {
   "cell_type": "code",
   "execution_count": 37,
   "metadata": {},
   "outputs": [
    {
     "data": {
      "text/html": [
       "<div>\n",
       "<style scoped>\n",
       "    .dataframe tbody tr th:only-of-type {\n",
       "        vertical-align: middle;\n",
       "    }\n",
       "\n",
       "    .dataframe tbody tr th {\n",
       "        vertical-align: top;\n",
       "    }\n",
       "\n",
       "    .dataframe thead th {\n",
       "        text-align: right;\n",
       "    }\n",
       "</style>\n",
       "<table border=\"1\" class=\"dataframe\">\n",
       "  <thead>\n",
       "    <tr style=\"text-align: right;\">\n",
       "      <th></th>\n",
       "      <th>id</th>\n",
       "      <th>x</th>\n",
       "      <th>y</th>\n",
       "      <th>date</th>\n",
       "      <th>state</th>\n",
       "      <th>relevance</th>\n",
       "      <th>types</th>\n",
       "    </tr>\n",
       "  </thead>\n",
       "  <tbody>\n",
       "    <tr>\n",
       "      <th>0</th>\n",
       "      <td>20102956</td>\n",
       "      <td>16.624296</td>\n",
       "      <td>49.196965</td>\n",
       "      <td>2023-01-01T00:23:00.0000+01:00</td>\n",
       "      <td>1</td>\n",
       "      <td>4</td>\n",
       "      <td>76</td>\n",
       "    </tr>\n",
       "    <tr>\n",
       "      <th>1</th>\n",
       "      <td>20102956</td>\n",
       "      <td>16.624296</td>\n",
       "      <td>49.196965</td>\n",
       "      <td>2023-01-01T00:23:00.0000+01:00</td>\n",
       "      <td>1</td>\n",
       "      <td>4</td>\n",
       "      <td>97</td>\n",
       "    </tr>\n",
       "    <tr>\n",
       "      <th>2</th>\n",
       "      <td>20102956</td>\n",
       "      <td>16.624296</td>\n",
       "      <td>49.196965</td>\n",
       "      <td>2023-01-01T00:23:00.0000+01:00</td>\n",
       "      <td>1</td>\n",
       "      <td>4</td>\n",
       "      <td>111</td>\n",
       "    </tr>\n",
       "    <tr>\n",
       "      <th>3</th>\n",
       "      <td>20103251</td>\n",
       "      <td>16.605746</td>\n",
       "      <td>49.192579</td>\n",
       "      <td>2023-01-01T00:29:00.0000+01:00</td>\n",
       "      <td>2</td>\n",
       "      <td>4</td>\n",
       "      <td>18</td>\n",
       "    </tr>\n",
       "    <tr>\n",
       "      <th>4</th>\n",
       "      <td>20103251</td>\n",
       "      <td>16.605746</td>\n",
       "      <td>49.192579</td>\n",
       "      <td>2023-01-01T00:29:00.0000+01:00</td>\n",
       "      <td>2</td>\n",
       "      <td>4</td>\n",
       "      <td>34</td>\n",
       "    </tr>\n",
       "    <tr>\n",
       "      <th>...</th>\n",
       "      <td>...</td>\n",
       "      <td>...</td>\n",
       "      <td>...</td>\n",
       "      <td>...</td>\n",
       "      <td>...</td>\n",
       "      <td>...</td>\n",
       "      <td>...</td>\n",
       "    </tr>\n",
       "    <tr>\n",
       "      <th>117808</th>\n",
       "      <td>22574058</td>\n",
       "      <td>16.577581</td>\n",
       "      <td>49.174230</td>\n",
       "      <td>2023-10-16T22:27:00.0000+02:00</td>\n",
       "      <td>1</td>\n",
       "      <td>4</td>\n",
       "      <td>97</td>\n",
       "    </tr>\n",
       "    <tr>\n",
       "      <th>117809</th>\n",
       "      <td>22574058</td>\n",
       "      <td>16.577581</td>\n",
       "      <td>49.174230</td>\n",
       "      <td>2023-10-16T22:27:00.0000+02:00</td>\n",
       "      <td>1</td>\n",
       "      <td>4</td>\n",
       "      <td>120</td>\n",
       "    </tr>\n",
       "    <tr>\n",
       "      <th>117810</th>\n",
       "      <td>22574144</td>\n",
       "      <td>16.625827</td>\n",
       "      <td>49.198809</td>\n",
       "      <td>2023-10-16T22:00:00.0000+02:00</td>\n",
       "      <td>1</td>\n",
       "      <td>3</td>\n",
       "      <td>74</td>\n",
       "    </tr>\n",
       "    <tr>\n",
       "      <th>117811</th>\n",
       "      <td>22574144</td>\n",
       "      <td>16.625827</td>\n",
       "      <td>49.198809</td>\n",
       "      <td>2023-10-16T22:00:00.0000+02:00</td>\n",
       "      <td>1</td>\n",
       "      <td>3</td>\n",
       "      <td>97</td>\n",
       "    </tr>\n",
       "    <tr>\n",
       "      <th>117812</th>\n",
       "      <td>22574144</td>\n",
       "      <td>16.625827</td>\n",
       "      <td>49.198809</td>\n",
       "      <td>2023-10-16T22:00:00.0000+02:00</td>\n",
       "      <td>1</td>\n",
       "      <td>3</td>\n",
       "      <td>120</td>\n",
       "    </tr>\n",
       "  </tbody>\n",
       "</table>\n",
       "<p>115643 rows × 7 columns</p>\n",
       "</div>"
      ],
      "text/plain": [
       "              id          x          y                            date  state  \\\n",
       "0       20102956  16.624296  49.196965  2023-01-01T00:23:00.0000+01:00      1   \n",
       "1       20102956  16.624296  49.196965  2023-01-01T00:23:00.0000+01:00      1   \n",
       "2       20102956  16.624296  49.196965  2023-01-01T00:23:00.0000+01:00      1   \n",
       "3       20103251  16.605746  49.192579  2023-01-01T00:29:00.0000+01:00      2   \n",
       "4       20103251  16.605746  49.192579  2023-01-01T00:29:00.0000+01:00      2   \n",
       "...          ...        ...        ...                             ...    ...   \n",
       "117808  22574058  16.577581  49.174230  2023-10-16T22:27:00.0000+02:00      1   \n",
       "117809  22574058  16.577581  49.174230  2023-10-16T22:27:00.0000+02:00      1   \n",
       "117810  22574144  16.625827  49.198809  2023-10-16T22:00:00.0000+02:00      1   \n",
       "117811  22574144  16.625827  49.198809  2023-10-16T22:00:00.0000+02:00      1   \n",
       "117812  22574144  16.625827  49.198809  2023-10-16T22:00:00.0000+02:00      1   \n",
       "\n",
       "        relevance  types  \n",
       "0               4     76  \n",
       "1               4     97  \n",
       "2               4    111  \n",
       "3               4     18  \n",
       "4               4     34  \n",
       "...           ...    ...  \n",
       "117808          4     97  \n",
       "117809          4    120  \n",
       "117810          3     74  \n",
       "117811          3     97  \n",
       "117812          3    120  \n",
       "\n",
       "[115643 rows x 7 columns]"
      ]
     },
     "execution_count": 37,
     "metadata": {},
     "output_type": "execute_result"
    }
   ],
   "source": [
    "trestne_ciny = trestne_ciny.replace({'types': 'type'})\n",
    "trestne_ciny"
   ]
  },
  {
   "cell_type": "code",
   "execution_count": 39,
   "metadata": {},
   "outputs": [],
   "source": [
    "trestne_ciny.to_csv('trestne_ciny_final.csv', index=False)"
   ]
  }
 ],
 "metadata": {
  "kernelspec": {
   "display_name": "Python 3",
   "language": "python",
   "name": "python3"
  },
  "language_info": {
   "codemirror_mode": {
    "name": "ipython",
    "version": 3
   },
   "file_extension": ".py",
   "mimetype": "text/x-python",
   "name": "python",
   "nbconvert_exporter": "python",
   "pygments_lexer": "ipython3",
   "version": "3.11.5"
  }
 },
 "nbformat": 4,
 "nbformat_minor": 2
}
